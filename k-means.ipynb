{
 "cells": [
  {
   "cell_type": "code",
   "execution_count": 31,
   "metadata": {},
   "outputs": [],
   "source": [
    "import numpy as np\n",
    "import pandas as pd\n",
    "from sklearn.cluster import KMeans, AgglomerativeClustering\n",
    "import sklearn.metrics as metrics\n",
    "from collections import Counter\n",
    "\n",
    "train_file = 'train.csv'\n",
    "test_file = 'test.csv'\n",
    "\n",
    "train_dataset = pd.read_csv(train_file)\n",
    "test_dataset = pd.read_csv(test_file)\n",
    "\n",
    "test_dataset = test_dataset.drop('id', axis='columns')  #delete id from test set\n",
    "\n",
    "x_train, y_train = train_dataset.iloc[:,:-1], train_dataset.iloc[:,-1]\n",
    "#display(test_dataset)\n",
    "#display(x_train.head())\n",
    "#display(y_train.head())"
   ]
  },
  {
   "cell_type": "code",
   "execution_count": 121,
   "metadata": {},
   "outputs": [],
   "source": [
    "def purity_score(y_true, y_pred): \n",
    "    contingency_matrix = metrics.cluster.contingency_matrix(y_true, y_pred)\n",
    "    # return purity\n",
    "    return np.sum(np.amax(contingency_matrix, axis=0)) / np.sum(contingency_matrix)\n",
    "\n",
    "def find_cluster_majority_classes(cluster_labels, y_true):\n",
    "    cluster_majority_classes = {}\n",
    "    unique_clusters = set(cluster_labels)\n",
    "\n",
    "    for cluster in unique_clusters:\n",
    "        cluster_indices = [i for i, label in enumerate(cluster_labels) if label == cluster]\n",
    "        cluster_class_labels = [y_true[i] for i in cluster_indices]\n",
    "        class_counts = Counter(cluster_class_labels)     #count occurrences of each class label within the cluster\n",
    "        majority_class = class_counts.most_common(1)[0][0]  #determine the majority class for the current cluster\n",
    "        cluster_majority_classes[cluster] = majority_class\n",
    "\n",
    "    return cluster_majority_classes\n",
    "\n",
    "def calculate_metrics(y_true, labels, majority_classes):\n",
    "    true_positives = 0\n",
    "    true_negatives = 0\n",
    "    false_positives = 0\n",
    "    false_negatives = 0\n",
    "\n",
    "    for i, true_class in enumerate(y_true):\n",
    "        cluster_label = labels[i]   \n",
    "        predicted_class = majority_classes[cluster_label]   #get predicted class for this label\n",
    "\n",
    "        if predicted_class == true_class:\n",
    "            if predicted_class in list(majority_classes.values())[:i] or predicted_class in list(majority_classes.values())[i + 1:]:\n",
    "                true_positives += 1\n",
    "            else:\n",
    "                true_negatives += 1\n",
    "        else:\n",
    "            if predicted_class in list(majority_classes.values())[:i] or predicted_class in list(majority_classes.values())[i + 1:]:\n",
    "                false_positives += 1\n",
    "            else:\n",
    "                false_negatives += 1\n",
    "\n",
    "    return [true_positives, true_negatives, false_positives, false_negatives]\n",
    "\n",
    "def calculate_precision(a, fp): \n",
    "    return a / (a+fp)\n",
    "\n",
    "def calculate_recall(a, fn):\n",
    "    return a / (a+fn)\n",
    "\n",
    "def f_measure(a, fp, fn):\n",
    "    precision = calculate_precision(a, fp)\n",
    "    recall = calculate_recall(a, fn)\n",
    "    return (1+a) / ((1/precision) + (a/recall))"
   ]
  },
  {
   "cell_type": "code",
   "execution_count": 127,
   "metadata": {},
   "outputs": [
    {
     "data": {
      "text/plain": [
       "0.002663115845539281"
      ]
     },
     "metadata": {},
     "output_type": "display_data"
    },
    {
     "data": {
      "text/plain": [
       "0.005326231691078562"
      ]
     },
     "metadata": {},
     "output_type": "display_data"
    },
    {
     "data": {
      "text/plain": [
       "0.007989347536617843"
      ]
     },
     "metadata": {},
     "output_type": "display_data"
    },
    {
     "data": {
      "text/plain": [
       "0.010652463382157125"
      ]
     },
     "metadata": {},
     "output_type": "display_data"
    },
    {
     "data": {
      "text/plain": [
       "0.013315579227696406"
      ]
     },
     "metadata": {},
     "output_type": "display_data"
    }
   ],
   "source": [
    "K = [2,4,6,8,10]\n",
    "\n",
    "for num_clusters in K: \n",
    "    total_fmeasure = 0\n",
    "    kmeans = KMeans(n_clusters=num_clusters, n_init=10)\n",
    "    kmeans.fit(x_train)\n",
    "    labels = kmeans.labels_ \n",
    "    #display(find_cluster_majority_classes(labels, y_train))\n",
    "    for cluster_label in range(num_clusters):\n",
    "        #display(calculate_metrics(y_train, cluster_label, majority_classes=find_cluster_majority_classes(labels, y_train)))\n",
    "        confusion_matrix = calculate_metrics(y_train, cluster_label, find_cluster_majority_classes(labels, y_train))\n",
    "        total_fmeasure += f_measure(1, confusion_matrix[2], confusion_matrix[3])\n",
    "    display(total_fmeasure)\n",
    "    #print(\"Purity score for \" + str(num_clusters) + \" clusters: \" + str(purity_score(y_train, labels)))"
   ]
  }
 ],
 "metadata": {
  "kernelspec": {
   "display_name": "Python 3",
   "language": "python",
   "name": "python3"
  },
  "language_info": {
   "codemirror_mode": {
    "name": "ipython",
    "version": 3
   },
   "file_extension": ".py",
   "mimetype": "text/x-python",
   "name": "python",
   "nbconvert_exporter": "python",
   "pygments_lexer": "ipython3",
   "version": "3.8.0"
  },
  "orig_nbformat": 4
 },
 "nbformat": 4,
 "nbformat_minor": 2
}
